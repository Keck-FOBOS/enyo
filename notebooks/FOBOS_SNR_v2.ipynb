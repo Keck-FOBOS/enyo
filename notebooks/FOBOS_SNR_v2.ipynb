{
 "cells": [
  {
   "cell_type": "code",
   "execution_count": 1,
   "metadata": {},
   "outputs": [
    {
     "ename": "ModuleNotFoundError",
     "evalue": "No module named 'enyo.etc.snr'",
     "output_type": "error",
     "traceback": [
      "\u001b[0;31m---------------------------------------------------------------------------\u001b[0m",
      "\u001b[0;31mModuleNotFoundError\u001b[0m                       Traceback (most recent call last)",
      "\u001b[0;32m<ipython-input-1-f03e8ca7a0ea>\u001b[0m in \u001b[0;36m<module>\u001b[0;34m\u001b[0m\n\u001b[1;32m     10\u001b[0m \u001b[0;32mfrom\u001b[0m \u001b[0mastropy\u001b[0m\u001b[0;34m.\u001b[0m\u001b[0mmodeling\u001b[0m \u001b[0;32mimport\u001b[0m \u001b[0mmodels\u001b[0m\u001b[0;34m,\u001b[0m \u001b[0mfitting\u001b[0m\u001b[0;34m\u001b[0m\u001b[0m\n\u001b[1;32m     11\u001b[0m \u001b[0;34m\u001b[0m\u001b[0m\n\u001b[0;32m---> 12\u001b[0;31m \u001b[0;32mfrom\u001b[0m \u001b[0menyo\u001b[0m\u001b[0;34m.\u001b[0m\u001b[0metc\u001b[0m\u001b[0;34m.\u001b[0m\u001b[0msnr\u001b[0m \u001b[0;32mimport\u001b[0m \u001b[0mSNRSpectrum\u001b[0m\u001b[0;34m\u001b[0m\u001b[0m\n\u001b[0m\u001b[1;32m     13\u001b[0m \u001b[0;32mfrom\u001b[0m \u001b[0menyo\u001b[0m\u001b[0;34m.\u001b[0m\u001b[0metc\u001b[0m \u001b[0;32mimport\u001b[0m \u001b[0msource\u001b[0m\u001b[0;34m,\u001b[0m \u001b[0mefficiency\u001b[0m\u001b[0;34m,\u001b[0m \u001b[0mtelescopes\u001b[0m\u001b[0;34m,\u001b[0m \u001b[0mspectrum\u001b[0m\u001b[0;34m,\u001b[0m \u001b[0mextract\u001b[0m\u001b[0;34m,\u001b[0m \u001b[0maperture\u001b[0m\u001b[0;34m\u001b[0m\u001b[0m\n",
      "\u001b[0;31mModuleNotFoundError\u001b[0m: No module named 'enyo.etc.snr'"
     ]
    }
   ],
   "source": [
    "import os\n",
    "import time\n",
    "\n",
    "import numpy\n",
    "from scipy import signal\n",
    "\n",
    "from matplotlib import pyplot\n",
    "\n",
    "import astropy.constants\n",
    "from astropy.modeling import models, fitting\n",
    "\n",
    "from enyo.etc.snr import SNRSpectrum\n",
    "from enyo.etc import source, efficiency, telescopes, spectrum, extract, aperture"
   ]
  },
  {
   "cell_type": "code",
   "execution_count": null,
   "metadata": {},
   "outputs": [],
   "source": [
    "# Set the object spectrum based on some emission lines\n",
    "wave = numpy.power(10., numpy.arange(15000)*5e-5 + numpy.log10(3100))\n",
    "redshift = 2.0"
   ]
  },
  {
   "cell_type": "code",
   "execution_count": null,
   "metadata": {},
   "outputs": [],
   "source": [
    "# Get source spectrum; for now assumed to be the same for all parts of the object.\n",
    "spectrum_type = 'emline'\n",
    "if spectrum_type == 'constant':\n",
    "    source_spectrum = spectrum.Spectrum(wave, numpy.ones_like(wave, dtype=float), log=True)\n",
    "elif spectrum_type == 'blue':\n",
    "    source_spectrum = spectrum.BlueGalaxySpectrum(redshift=redshift)\n",
    "elif spectrum_type == 'emline':\n",
    "    # Flux in 1e-17 erg/s/cm^2\n",
    "    flux = numpy.array([1.0, 1.0, 1.0, 1.0, 1.0, 1.0])\n",
    "    # Line names\n",
    "    names = numpy.array(['Lya', '[OII]3727', '[OII]3729', 'Hb', '[OIII]4960', '[OIII]5008'])\n",
    "    # Wavelength in angstroms\n",
    "    restwave = numpy.array([ 1216., 3727.092, 3729.875, 4862.691, 4960.295, 5008.240])\n",
    "    # Line FWHM in km/s\n",
    "    fwhm = numpy.array([50., 50., 50., 50., 50., 50.])\n",
    "    # Source spectrum in 1e-17 erg/s/cm^2/angstrom\n",
    "    source_spectrum = spectrum.EmissionLineSpectrum(wave, flux, restwave, fwhm, units='km/s',\n",
    "                                                    redshift=redshift,\n",
    "                                                    resolution=5000, log=True)\n",
    "source_spectrum.show()"
   ]
  },
  {
   "cell_type": "code",
   "execution_count": null,
   "metadata": {},
   "outputs": [],
   "source": [
    "# Build the source surface brightness distribution\n",
    "reff = 2.0\n",
    "sersic_n = 1.0\n",
    "ellipticity = 0.4\n",
    "position_angle = 45\n",
    "intrinsic = None          # If None, assumed to be point source\n",
    "if reff is not None and sersic_n is not None:\n",
    "    intrinsic = source.OnSkySersic(1.0, reff, sersic_n, ellipticity=ellipticity,\n",
    "                                   position_angle=position_angle, unity_integral=True)\n",
    "intrinsic = 1.\n",
    "    \n",
    "# Construct the on-sky source distribution\n",
    "seeing = 0.8\n",
    "onsky = source.OnSkySource(seeing, intrinsic, sampling=0.1, size=20)"
   ]
  },
  {
   "cell_type": "code",
   "execution_count": null,
   "metadata": {},
   "outputs": [],
   "source": [
    "pyplot.imshow(onsky.data, origin='lower', interpolation='nearest')\n",
    "pyplot.colorbar()"
   ]
  },
  {
   "cell_type": "code",
   "execution_count": null,
   "metadata": {},
   "outputs": [],
   "source": [
    "# Get the sky spectrum\n",
    "sky_spectrum = spectrum.MaunakeaSkySpectrum()\n",
    "sky_spectrum.show()"
   ]
  },
  {
   "cell_type": "code",
   "execution_count": null,
   "metadata": {},
   "outputs": [],
   "source": [
    "airmass = 1.0\n",
    "atmospheric_throughput = efficiency.AtmosphericThroughput(airmass=airmass)"
   ]
  },
  {
   "cell_type": "code",
   "execution_count": null,
   "metadata": {},
   "outputs": [],
   "source": [
    "# Telescope; mostly just used for aperture area\n",
    "telescope = telescopes.KeckTelescope()"
   ]
  },
  {
   "cell_type": "code",
   "execution_count": null,
   "metadata": {},
   "outputs": [],
   "source": [
    "# Define the observing aperture; fiber diameter is in arcseconds\n",
    "fiber_diameter = 1.0\n",
    "fiber = aperture.FiberAperture(0, 0, fiber_diameter, resolution=100)"
   ]
  },
  {
   "cell_type": "code",
   "execution_count": null,
   "metadata": {},
   "outputs": [],
   "source": [
    "t = time.clock()\n",
    "integral_at_center = fiber.integrate_over_source(onsky)\n",
    "print(time.clock()-t)\n",
    "t = time.clock()\n",
    "integral_map = fiber.map_integral_over_source(onsky)\n",
    "print(time.clock()-t)"
   ]
  },
  {
   "cell_type": "code",
   "execution_count": null,
   "metadata": {},
   "outputs": [],
   "source": [
    "print(integral_at_center)\n",
    "n = integral_map.shape[0]\n",
    "print(integral_map[n//2,n//2])"
   ]
  },
  {
   "cell_type": "code",
   "execution_count": null,
   "metadata": {},
   "outputs": [],
   "source": [
    "aperture_image = fiber.response(onsky.x, onsky.y, method='fractional')\n",
    "print(numpy.sum(aperture_image)*dx*dy)"
   ]
  },
  {
   "cell_type": "code",
   "execution_count": null,
   "metadata": {},
   "outputs": [],
   "source": [
    "pyplot.imshow(aperture_image, origin='lower', interpolation='nearest')\n",
    "pyplot.colorbar()"
   ]
  },
  {
   "cell_type": "code",
   "execution_count": null,
   "metadata": {},
   "outputs": [],
   "source": [
    "# Get the full system (top of telescope) throughput\n",
    "\n",
    "# Spectrograph throughput\n",
    "throughput_curve = 'wfos'\n",
    "if throughput_curve == 'wfos':\n",
    "    data_file = os.path.join(os.environ['ENYO_DIR'], 'data/efficiency', 'fiber_wfos_throughput.db')\n",
    "    db = numpy.genfromtxt(data_file)\n",
    "    spectrograph_throughput = efficiency.SpectrographThroughput(db[:,0], total=db[:,3])\n",
    "elif throughput_curve == 'desi':\n",
    "    data_file = os.path.join(os.environ['ENYO_DIR'], 'data/efficiency', 'desi_spectrograph_thru.txt')\n",
    "    db = numpy.genfromtxt(data_file)\n",
    "    spectrograph_throughput = efficiency.SpectrographThroughput(db[:,0], total=db[:,1])\n",
    "else:\n",
    "    raise NotImplementedError('Spectrograph unknown: {0}'.format(throughput_curve))\n",
    "\n",
    "# Coating efficiency\n",
    "coating_efficiency = efficiency.Efficiency.from_file(os.path.join(os.environ['ENYO_DIR'], 'data/efficiency',\n",
    "                                                                  'aluminum.db'))\n",
    "\n",
    "# System efficiency including 3 aluminum bounces\n",
    "system_throughput = efficiency.SystemThroughput(source_spectrum.wave, spectrograph=spectrograph_throughput,\n",
    "                                                surfaces=3, coating=coating_efficiency)"
   ]
  },
  {
   "cell_type": "code",
   "execution_count": null,
   "metadata": {},
   "outputs": [],
   "source": [
    "exposure_time = 3600\n",
    "seeing = 0.8\n",
    "resolution = 5000\n",
    "snr_spectrum = SNRSpectrum(source, source_spectrum, telescope, system_throughput, atmospheric_throughput,\n",
    "                           exposure_time, seeing, resolution)"
   ]
  },
  {
   "cell_type": "code",
   "execution_count": null,
   "metadata": {},
   "outputs": [],
   "source": [
    "s = SNRSpectrum(20., 1.0, 0.8, 1.0, 5000, 1., 0., 0.9)"
   ]
  },
  {
   "cell_type": "code",
   "execution_count": null,
   "metadata": {},
   "outputs": [],
   "source": [
    "pyplot.plot(s.coating_efficiency.wave, s.coating_efficiency.eta)"
   ]
  },
  {
   "cell_type": "code",
   "execution_count": null,
   "metadata": {},
   "outputs": [],
   "source": [
    "pyplot.plot(s.system_throughput.wave, s.system_throughput.eta)"
   ]
  },
  {
   "cell_type": "code",
   "execution_count": null,
   "metadata": {},
   "outputs": [],
   "source": [
    "pyplot.plot(s.atmospheric_extinction.wave, s.atmospheric_extinction.eta)"
   ]
  },
  {
   "cell_type": "code",
   "execution_count": null,
   "metadata": {},
   "outputs": [],
   "source": [
    "pyplot.plot(s.source_spectrum.wave, s.snr)"
   ]
  },
  {
   "cell_type": "code",
   "execution_count": null,
   "metadata": {},
   "outputs": [],
   "source": [
    "s.source_spectrum.photon_flux()"
   ]
  },
  {
   "cell_type": "code",
   "execution_count": null,
   "metadata": {},
   "outputs": [],
   "source": [
    "s.source_spectrum.flux"
   ]
  },
  {
   "cell_type": "code",
   "execution_count": null,
   "metadata": {},
   "outputs": [],
   "source": []
  },
  {
   "cell_type": "code",
   "execution_count": null,
   "metadata": {},
   "outputs": [],
   "source": [
    "# Fit the data using a Gaussian\n",
    "fit_g = fitting.LevMarLSQFitter()\n",
    "fit = numpy.zeros_like(emlspectrum.flux)\n",
    "for c in restwave:\n",
    "    g_init = models.Gaussian1D(amplitude=0.1, mean=c*(1+redshift), stddev=1.)\n",
    "    g = fit_g(g_init, emlspectrum.wave, emlspectrum.flux)\n",
    "    fit += g(emlspectrum.wave)\n",
    "    print('{0:.1f} {1:.1f} {2:.1f} {3:.1f}'.format(numpy.sum(numpy.diff(emlspectrum.wave)*g(emlspectrum.wave[1:])),\n",
    "                                                   c*(1+redshift), g.mean.value,\n",
    "                    astropy.constants.c.to('km/s').value*g.stddev.value/g.mean.value*numpy.sqrt(8*numpy.log(2))))\n",
    "pyplot.plot(emlspectrum.wave, emlspectrum.flux)\n",
    "pyplot.plot(emlspectrum.wave, fit)\n",
    "pyplot.xlim([11100,11300])"
   ]
  }
 ],
 "metadata": {
  "kernelspec": {
   "display_name": "Python 3",
   "language": "python",
   "name": "python3"
  },
  "language_info": {
   "codemirror_mode": {
    "name": "ipython",
    "version": 3
   },
   "file_extension": ".py",
   "mimetype": "text/x-python",
   "name": "python",
   "nbconvert_exporter": "python",
   "pygments_lexer": "ipython3",
   "version": "3.6.2"
  }
 },
 "nbformat": 4,
 "nbformat_minor": 2
}
