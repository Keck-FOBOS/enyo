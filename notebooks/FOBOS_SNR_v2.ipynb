{
 "cells": [
  {
   "cell_type": "code",
   "execution_count": 1,
   "metadata": {},
   "outputs": [
    {
     "name": "stderr",
     "output_type": "stream",
     "text": [
      " UserWarning: MANGADRP_VER environmental variable undefined.  Using: v2_4_3\n",
      " UserWarning: MANGA_SPECTRO_REDUX environmental variable undefined.  Using: /Users/westfall/MaNGA/redux\n",
      " UserWarning: MANGADAP_VER environmental variable undefined.  Using: 2.2.3dev\n",
      " UserWarning: MANGA_SPECTRO_ANALYSIS environmental variable undefined.  Using: /Users/westfall/MaNGA/analysis\n",
      " UserWarning: MANGACORE_VER environmental variable undefined.  Using: v1_6_2\n",
      " UserWarning: MANGACORE_DIR environmental variable undefined.  Using: /Users/westfall/MaNGA/core/v1_6_2\n"
     ]
    }
   ],
   "source": [
    "from enyo.etc.snr import SNRSpectrum\n",
    "from enyo.etc import source, efficiency, telescopes, spectrum, extract, aperture\n",
    "from matplotlib import pyplot\n",
    "import numpy\n",
    "import astropy.constants\n",
    "from astropy.modeling import models, fitting\n",
    "import os"
   ]
  },
  {
   "cell_type": "code",
   "execution_count": 2,
   "metadata": {},
   "outputs": [],
   "source": [
    "# Set the object spectrum based on some emission lines\n",
    "wave = numpy.power(10., numpy.arange(15000)*5e-5 + numpy.log10(3100))\n",
    "redshift = 2.0"
   ]
  },
  {
   "cell_type": "code",
   "execution_count": 3,
   "metadata": {},
   "outputs": [
    {
     "data": {
      "image/png": "[encoded data removed]",
      "text/plain": [
       "<Figure size 432x288 with 1 Axes>"
      ]
     },
     "metadata": {},
     "output_type": "display_data"
    }
   ],
   "source": [
    "# Get source spectrum; for now assumed to be the same for all parts of the object.\n",
    "spectrum_type = 'emline'\n",
    "if spectrum_type == 'constant':\n",
    "    source_spectrum = spectrum.Spectrum(wave, numpy.ones_like(wave, dtype=float), log=True)\n",
    "elif spectrum_type == 'blue':\n",
    "    source_spectrum = spectrum.BlueGalaxySpectrum(redshift=redshift)\n",
    "elif spectrum_type == 'emline':\n",
    "    # Flux in 1e-17 erg/s/cm^2\n",
    "    flux = numpy.array([1.0, 1.0, 1.0, 1.0, 1.0, 1.0])\n",
    "    # Wavelength in angstroms\n",
    "    restwave = numpy.array([ 1216., 3727.092, 3729.875, 4862.691, 4960.295, 5008.240])\n",
    "    # Line FWHM in km/s\n",
    "    fwhm = numpy.array([50., 50., 50., 50., 50., 50.])\n",
    "    # Source spectrum in 1e-17 erg/s/cm^2/angstrom\n",
    "    source_spectrum = spectrum.EmissionLineSpectrum(wave, flux, restwave, fwhm, units='km/s', redshift=redshift,\n",
    "                                                    resolution=5000, log=True)\n",
    "source_spectrum.show()"
   ]
  },
  {
   "cell_type": "code",
   "execution_count": 5,
   "metadata": {},
   "outputs": [],
   "source": [
    "# Build the source surface brightness distribution\n",
    "reff = 2.0\n",
    "sersic_n = 1.0\n",
    "ellipticity = 0.4\n",
    "position_angle = 45\n",
    "intrinsic = None          # If None, assumed to be point source\n",
    "if reff is not None and sersic_n is not None:\n",
    "    intrinsic = source.OnSkySersic(1.0, reff, sersic_n, ellipticity=ellipticity, position_angle=position_angle)"
   ]
  },
  {
   "cell_type": "code",
   "execution_count": 7,
   "metadata": {},
   "outputs": [
    {
     "data": {
      "text/plain": [
       "<matplotlib.image.AxesImage at 0x11b2aae80>"
      ]
     },
     "execution_count": 7,
     "metadata": {},
     "output_type": "execute_result"
    },
    {
     "data": {
      "image/png": "[encoded data removed]",
      "text/plain": [
       "<Figure size 432x288 with 1 Axes>"
      ]
     },
     "metadata": {},
     "output_type": "display_data"
    }
   ],
   "source": [
    "intrinsic.make_map(100) #source.minimum_size())\n",
    "pyplot.imshow(intrinsic.data, origin='lower', interpolation='nearest')"
   ]
  },
  {
   "cell_type": "code",
   "execution_count": null,
   "metadata": {},
   "outputs": [],
   "source": [
    "# Construct the on-sky source distribution\n",
    "seeing = 0.8\n",
    "onsky = source.OnSkySource(seeing, intrinsic, )"
   ]
  },
  {
   "cell_type": "code",
   "execution_count": null,
   "metadata": {},
   "outputs": [],
   "source": [
    "# Get the sky spectrum\n",
    "sky_spectrum = spectrum.MaunakeaSkySpectrum()\n",
    "sky_spectrum.show()"
   ]
  },
  {
   "cell_type": "code",
   "execution_count": null,
   "metadata": {},
   "outputs": [],
   "source": [
    "airmass = 1.0\n",
    "atmospheric_throughput = efficiency.AtmosphericThroughput(airmass=airmass)"
   ]
  },
  {
   "cell_type": "code",
   "execution_count": null,
   "metadata": {},
   "outputs": [],
   "source": [
    "# Telescope; mostly just used for aperture area\n",
    "telescope = telescopes.KeckTelescope()"
   ]
  },
  {
   "cell_type": "code",
   "execution_count": null,
   "metadata": {},
   "outputs": [],
   "source": [
    "# Get the full system (top of telescope) throughput\n",
    "\n",
    "# Spectrograph throughput\n",
    "throughput_curve = 'wfos'\n",
    "if throughput_curve == 'wfos':\n",
    "    data_file = os.path.join(os.environ['ENYO_DIR'], 'data/efficiency', 'fiber_wfos_throughput.db')\n",
    "    db = numpy.genfromtxt(data_file)\n",
    "    spectrograph_throughput = efficiency.SpectrographThroughput(db[:,0], total=db[:,3])\n",
    "elif throughput_curve == 'desi':\n",
    "    data_file = os.path.join(os.environ['ENYO_DIR'], 'data/efficiency', 'desi_spectrograph_thru.txt')\n",
    "    db = numpy.genfromtxt(data_file)\n",
    "    spectrograph_throughput = efficiency.SpectrographThroughput(db[:,0], total=db[:,1])\n",
    "else:\n",
    "    raise NotImplementedError('Spectrograph unknown: {0}'.format(throughput_curve))\n",
    "\n",
    "# Coating efficiency\n",
    "coating_efficiency = efficiency.Efficiency.from_file(os.path.join(os.environ['ENYO_DIR'], 'data/efficiency',\n",
    "                                                                  'aluminum.db'))\n",
    "\n",
    "# System efficiency including 3 aluminum bounces\n",
    "system_throughput = efficiency.SystemThroughput(source_spectrum.wave, spectrograph=spectrograph_throughput,\n",
    "                                                surfaces=3, coating=coating_efficiency)"
   ]
  },
  {
   "cell_type": "code",
   "execution_count": null,
   "metadata": {},
   "outputs": [],
   "source": [
    "# Aperture Efficiency\n",
    "fiber_diameter = 1.0\n",
    "aperture_efficiency = efficiency.ApertureEfficiency(source_spectrum.wave, fiber_diameter, source=source,\n",
    "                                                    seeing=seeing)"
   ]
  },
  {
   "cell_type": "code",
   "execution_count": null,
   "metadata": {},
   "outputs": [],
   "source": [
    "exposure_time = 3600\n",
    "seeing = 0.8\n",
    "resolution = 5000\n",
    "snr_spectrum = SNRSpectrum(source, source_spectrum, telescope, system_throughput, atmospheric_throughput,\n",
    "                           exposure_time, seeing, resolution)"
   ]
  },
  {
   "cell_type": "code",
   "execution_count": null,
   "metadata": {},
   "outputs": [],
   "source": [
    "s = SNRSpectrum(20., 1.0, 0.8, 1.0, 5000, 1., 0., 0.9)"
   ]
  },
  {
   "cell_type": "code",
   "execution_count": null,
   "metadata": {},
   "outputs": [],
   "source": [
    "pyplot.plot(s.coating_efficiency.wave, s.coating_efficiency.eta)"
   ]
  },
  {
   "cell_type": "code",
   "execution_count": null,
   "metadata": {},
   "outputs": [],
   "source": [
    "pyplot.plot(s.system_throughput.wave, s.system_throughput.eta)"
   ]
  },
  {
   "cell_type": "code",
   "execution_count": null,
   "metadata": {},
   "outputs": [],
   "source": [
    "pyplot.plot(s.atmospheric_extinction.wave, s.atmospheric_extinction.eta)"
   ]
  },
  {
   "cell_type": "code",
   "execution_count": null,
   "metadata": {},
   "outputs": [],
   "source": [
    "pyplot.plot(s.source_spectrum.wave, s.snr)"
   ]
  },
  {
   "cell_type": "code",
   "execution_count": null,
   "metadata": {},
   "outputs": [],
   "source": [
    "s.source_spectrum.photon_flux()"
   ]
  },
  {
   "cell_type": "code",
   "execution_count": null,
   "metadata": {},
   "outputs": [],
   "source": [
    "s.source_spectrum.flux"
   ]
  },
  {
   "cell_type": "code",
   "execution_count": null,
   "metadata": {},
   "outputs": [],
   "source": []
  },
  {
   "cell_type": "code",
   "execution_count": null,
   "metadata": {},
   "outputs": [],
   "source": [
    "# Fit the data using a Gaussian\n",
    "fit_g = fitting.LevMarLSQFitter()\n",
    "fit = numpy.zeros_like(emlspectrum.flux)\n",
    "for c in restwave:\n",
    "    g_init = models.Gaussian1D(amplitude=0.1, mean=c*(1+redshift), stddev=1.)\n",
    "    g = fit_g(g_init, emlspectrum.wave, emlspectrum.flux)\n",
    "    fit += g(emlspectrum.wave)\n",
    "    print('{0:.1f} {1:.1f} {2:.1f} {3:.1f}'.format(numpy.sum(numpy.diff(emlspectrum.wave)*g(emlspectrum.wave[1:])),\n",
    "                                                   c*(1+redshift), g.mean.value,\n",
    "                    astropy.constants.c.to('km/s').value*g.stddev.value/g.mean.value*numpy.sqrt(8*numpy.log(2))))\n",
    "pyplot.plot(emlspectrum.wave, emlspectrum.flux)\n",
    "pyplot.plot(emlspectrum.wave, fit)\n",
    "pyplot.xlim([11100,11300])"
   ]
  }
 ],
 "metadata": {
  "kernelspec": {
   "display_name": "Python 3",
   "language": "python",
   "name": "python3"
  },
  "language_info": {
   "codemirror_mode": {
    "name": "ipython",
    "version": 3
   },
   "file_extension": ".py",
   "mimetype": "text/x-python",
   "name": "python",
   "nbconvert_exporter": "python",
   "pygments_lexer": "ipython3",
   "version": "3.6.2"
  }
 },
 "nbformat": 4,
 "nbformat_minor": 2
}
