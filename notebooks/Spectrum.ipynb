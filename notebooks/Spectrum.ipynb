{
 "cells": [
  {
   "cell_type": "code",
   "execution_count": 1,
   "metadata": {},
   "outputs": [
    {
     "name": "stderr",
     "output_type": "stream",
     "text": [
      " UserWarning: MANGADRP_VER environmental variable undefined.  Using: v2_4_3\n",
      " UserWarning: MANGA_SPECTRO_REDUX environmental variable undefined.  Using: /Users/westfall/MaNGA/redux\n",
      " UserWarning: MANGADAP_VER environmental variable undefined.  Using: 2.3.0\n",
      " UserWarning: MANGA_SPECTRO_ANALYSIS environmental variable undefined.  Using: /Users/westfall/MaNGA/analysis\n",
      " UserWarning: MANGACORE_VER environmental variable undefined.  Using: v1_6_2\n",
      " UserWarning: MANGACORE_DIR environmental variable undefined.  Using: /Users/westfall/MaNGA/core/v1_6_2\n"
     ]
    }
   ],
   "source": [
    "import numpy\n",
    "\n",
    "from matplotlib import pyplot\n",
    "\n",
    "import astropy.constants\n",
    "from astropy.modeling import models, fitting\n",
    "\n",
    "from enyo.etc import spectrum"
   ]
  },
  {
   "cell_type": "code",
   "execution_count": 2,
   "metadata": {},
   "outputs": [],
   "source": [
    "# Set the object spectrum based on some emission lines\n",
    "wave = numpy.power(10., numpy.arange(15000)*5e-5 + numpy.log10(3100))\n",
    "redshift = 2.0"
   ]
  },
  {
   "cell_type": "code",
   "execution_count": 3,
   "metadata": {},
   "outputs": [
    {
     "data": {
      "image/png": "[encoded data removed]",
      "text/plain": [
       "<Figure size 432x288 with 1 Axes>"
      ]
     },
     "metadata": {},
     "output_type": "display_data"
    }
   ],
   "source": [
    "# Get source spectrum; for now assumed to be the same for all parts of the object.\n",
    "# Flux in 1e-17 erg/s/cm^2\n",
    "flux = numpy.array([1.0, 1.0, 1.0, 1.0, 1.0, 1.0])\n",
    "# Line names\n",
    "names = numpy.array(['Lya', '[OII]3727', '[OII]3729', 'Hb', '[OIII]4960', '[OIII]5008'])\n",
    "# Wavelength in angstroms\n",
    "restwave = numpy.array([ 1216., 3727.092, 3729.875, 4862.691, 4960.295, 5008.240])\n",
    "# Line FWHM in km/s\n",
    "fwhm = numpy.array([50., 50., 50., 50., 50., 50.])\n",
    "# Source spectrum in 1e-17 erg/s/cm^2/angstrom\n",
    "emlspectrum = spectrum.EmissionLineSpectrum(wave, flux, restwave, fwhm, units='km/s',\n",
    "                                            redshift=redshift, resolution=5000, log=True)\n",
    "emlspectrum.show()"
   ]
  },
  {
   "cell_type": "code",
   "execution_count": 4,
   "metadata": {},
   "outputs": [
    {
     "name": "stdout",
     "output_type": "stream",
     "text": [
      "1.0 3648.0 3648.0 81.6\n",
      "1.0 11181.3 11181.3 81.7\n",
      "1.0 11189.6 11189.6 81.7\n",
      "1.0 14588.1 14588.1 81.6\n",
      "1.0 14880.9 14880.9 81.6\n",
      "1.0 15024.7 15024.7 81.6\n"
     ]
    },
    {
     "data": {
      "text/plain": [
       "[<matplotlib.lines.Line2D at 0x123c38eb8>]"
      ]
     },
     "execution_count": 4,
     "metadata": {},
     "output_type": "execute_result"
    },
    {
     "data": {
      "image/png": "[encoded data removed]",
      "text/plain": [
       "<Figure size 432x288 with 1 Axes>"
      ]
     },
     "metadata": {},
     "output_type": "display_data"
    }
   ],
   "source": [
    "# Fit the data using a Gaussian\n",
    "fit_g = fitting.LevMarLSQFitter()\n",
    "fit = numpy.zeros_like(emlspectrum.flux)\n",
    "for c in restwave:\n",
    "    g_init = models.Gaussian1D(amplitude=0.1, mean=c*(1+redshift), stddev=1.)\n",
    "    g = fit_g(g_init, emlspectrum.wave, emlspectrum.flux)\n",
    "    fit += g(emlspectrum.wave)\n",
    "    print('{0:.1f} {1:.1f} {2:.1f} {3:.1f}'.format(numpy.sum(numpy.diff(emlspectrum.wave)*g(emlspectrum.wave[1:])),\n",
    "                                                   c*(1+redshift), g.mean.value,\n",
    "                    astropy.constants.c.to('km/s').value*g.stddev.value/g.mean.value*numpy.sqrt(8*numpy.log(2))))\n",
    "pyplot.plot(emlspectrum.wave, emlspectrum.flux)\n",
    "pyplot.plot(emlspectrum.wave, fit)\n",
    "#pyplot.xlim([11100,11300])"
   ]
  },
  {
   "cell_type": "code",
   "execution_count": null,
   "metadata": {},
   "outputs": [],
   "source": []
  }
 ],
 "metadata": {
  "kernelspec": {
   "display_name": "Python 3",
   "language": "python",
   "name": "python3"
  },
  "language_info": {
   "codemirror_mode": {
    "name": "ipython",
    "version": 3
   },
   "file_extension": ".py",
   "mimetype": "text/x-python",
   "name": "python",
   "nbconvert_exporter": "python",
   "pygments_lexer": "ipython3",
   "version": "3.6.2"
  }
 },
 "nbformat": 4,
 "nbformat_minor": 2
}
